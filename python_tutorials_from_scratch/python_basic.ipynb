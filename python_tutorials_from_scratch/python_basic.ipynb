{
  "nbformat": 4,
  "nbformat_minor": 0,
  "metadata": {
    "colab": {
      "name": "python basic.ipynb",
      "provenance": [],
      "collapsed_sections": []
    },
    "kernelspec": {
      "name": "python3",
      "display_name": "Python 3"
    }
  },
  "cells": [
    {
      "cell_type": "markdown",
      "metadata": {
        "id": "fKT-uZauVt4S",
        "colab_type": "text"
      },
      "source": [
        "# welcome to learn python"
      ]
    },
    {
      "cell_type": "markdown",
      "metadata": {
        "id": "xTPg1zHSV1wu",
        "colab_type": "text"
      },
      "source": [
        "# print function"
      ]
    },
    {
      "cell_type": "code",
      "metadata": {
        "id": "Xdm7SzUWOUev",
        "colab_type": "code",
        "outputId": "8b2cfab2-9e0e-4859-b54f-2df7c6c897d3",
        "colab": {
          "base_uri": "https://localhost:8080/",
          "height": 72
        }
      },
      "source": [
        "# anything inside the double quotes that will be printed as a output\n",
        "print(\"hello world\")\n",
        "print(\"12343\")\n",
        "print(\"!@$#$%^&**((())()(\")"
      ],
      "execution_count": 0,
      "outputs": [
        {
          "output_type": "stream",
          "text": [
            "hello world\n",
            "12343\n",
            "!@$#$%^&**((())()(\n"
          ],
          "name": "stdout"
        }
      ]
    },
    {
      "cell_type": "markdown",
      "metadata": {
        "id": "lJH8TO8ZWXIY",
        "colab_type": "text"
      },
      "source": [
        "# comment lines"
      ]
    },
    {
      "cell_type": "markdown",
      "metadata": {
        "id": "_vJslIDjWch1",
        "colab_type": "text"
      },
      "source": [
        "single comment line"
      ]
    },
    {
      "cell_type": "code",
      "metadata": {
        "id": "Z029btLVV-vw",
        "colab_type": "code",
        "colab": {}
      },
      "source": [
        "# print(\"hello world\")"
      ],
      "execution_count": 0,
      "outputs": []
    },
    {
      "cell_type": "markdown",
      "metadata": {
        "id": "aYR1JNVGWmjH",
        "colab_type": "text"
      },
      "source": [
        "mtliple line comment"
      ]
    },
    {
      "cell_type": "code",
      "metadata": {
        "id": "PeT-CQiyWl0G",
        "colab_type": "code",
        "colab": {}
      },
      "source": [
        "# '''print(\"hello world\")\n",
        "# print(\"12343\")\n",
        "# print(\"!@$#$%^&**((())()(\")'''\n",
        "\n",
        "\n",
        "# print(\"hello world\")\n",
        "# print(\"12343\")\n",
        "# print(\"!@$#$%^&**((())()(\")\n"
      ],
      "execution_count": 0,
      "outputs": []
    },
    {
      "cell_type": "markdown",
      "metadata": {
        "id": "BSM4EbrVZSSu",
        "colab_type": "text"
      },
      "source": [
        "'''  ''' is not working in colab"
      ]
    },
    {
      "cell_type": "code",
      "metadata": {
        "id": "U5fnardBW-E6",
        "colab_type": "code",
        "outputId": "899668b9-1420-4137-e0fd-b9d40dabc965",
        "colab": {
          "base_uri": "https://localhost:8080/",
          "height": 35
        }
      },
      "source": [
        "\"\"\"This is a commentwritten inmore than just one line\"\"\""
      ],
      "execution_count": 0,
      "outputs": [
        {
          "output_type": "execute_result",
          "data": {
            "text/plain": [
              "'This is a commentwritten inmore than just one line'"
            ]
          },
          "metadata": {
            "tags": []
          },
          "execution_count": 10
        }
      ]
    },
    {
      "cell_type": "markdown",
      "metadata": {
        "id": "7oX-adE7ZgtJ",
        "colab_type": "text"
      },
      "source": [
        "# Variables"
      ]
    },
    {
      "cell_type": "code",
      "metadata": {
        "id": "k_pcywGeYKEk",
        "colab_type": "code",
        "colab": {}
      },
      "source": [
        "x = 10"
      ],
      "execution_count": 0,
      "outputs": []
    },
    {
      "cell_type": "code",
      "metadata": {
        "id": "5zkIUhIUaZ1k",
        "colab_type": "code",
        "colab": {}
      },
      "source": [
        "x = \"welcome\""
      ],
      "execution_count": 0,
      "outputs": []
    },
    {
      "cell_type": "code",
      "metadata": {
        "id": "wBGxXDCbD6iX",
        "colab_type": "code",
        "outputId": "13208762-4cb2-4cbf-f42f-ae7f8fac6328",
        "colab": {
          "base_uri": "https://localhost:8080/",
          "height": 72
        }
      },
      "source": [
        "# asign same value to multiple variables\n",
        "x = y = z = 1\n",
        "print(x)\n",
        "print(y)\n",
        "print(z)"
      ],
      "execution_count": 0,
      "outputs": [
        {
          "output_type": "stream",
          "text": [
            "1\n",
            "1\n",
            "1\n"
          ],
          "name": "stdout"
        }
      ]
    },
    {
      "cell_type": "markdown",
      "metadata": {
        "id": "GwpWqWNLa2Bs",
        "colab_type": "text"
      },
      "source": [
        "**multiple** **variable**"
      ]
    },
    {
      "cell_type": "code",
      "metadata": {
        "id": "Gn0DtJacaot5",
        "colab_type": "code",
        "colab": {}
      },
      "source": [
        "x, y, z = [1,2,3]\n",
        "x, y, z = 1,2,3\n",
        "x, y, z = (1,2,3)\n"
      ],
      "execution_count": 0,
      "outputs": []
    },
    {
      "cell_type": "code",
      "metadata": {
        "id": "U7y0vIymEKqp",
        "colab_type": "code",
        "outputId": "5c996c4d-aac8-43a8-8b48-54968fe8e829",
        "colab": {
          "base_uri": "https://localhost:8080/",
          "height": 35
        }
      },
      "source": [
        "x = 2\n",
        "y = 3\n",
        "z = x + y\n",
        "s = z\n",
        "print(\"Sum of x + y is: \", z)"
      ],
      "execution_count": 0,
      "outputs": [
        {
          "output_type": "stream",
          "text": [
            "Sum of x + y is:  5\n"
          ],
          "name": "stdout"
        }
      ]
    },
    {
      "cell_type": "code",
      "metadata": {
        "id": "IBqiiKHzET3E",
        "colab_type": "code",
        "outputId": "92fb43c3-96ee-4cd4-e69f-86ffe78bb4cc",
        "colab": {
          "base_uri": "https://localhost:8080/",
          "height": 54
        }
      },
      "source": [
        "# unique id(memory reference) of a variable\n",
        "a = 50\n",
        "#print id(a)\n",
        "s1 = 257\n",
        "s2 = 257\n",
        "\n",
        "print (id(s1))\n",
        "print (id(s2))"
      ],
      "execution_count": 0,
      "outputs": [
        {
          "output_type": "stream",
          "text": [
            "139897374675696\n",
            "139897374675408\n"
          ],
          "name": "stdout"
        }
      ]
    },
    {
      "cell_type": "markdown",
      "metadata": {
        "id": "ANIHsHzsE0ZO",
        "colab_type": "text"
      },
      "source": [
        "# Local Variable"
      ]
    },
    {
      "cell_type": "code",
      "metadata": {
        "id": "LrBgPEP1EhWK",
        "colab_type": "code",
        "outputId": "c9625755-72a0-4b13-9a0b-721a7ac44174",
        "colab": {
          "base_uri": "https://localhost:8080/",
          "height": 54
        }
      },
      "source": [
        "g = \"hello\"\n",
        "\n",
        "#Local Variable\n",
        "def bob():\n",
        "    global l\n",
        "    l = \"local\"\n",
        "    print(l)\n",
        "\n",
        "def foo():\n",
        "    return \"hello\"\n",
        "    print(a)\n",
        "\n",
        "print (foo())\n",
        "a = foo()\n",
        "print(a)\n",
        "# print(me)   # Asking for a global variable"
      ],
      "execution_count": 0,
      "outputs": [
        {
          "output_type": "stream",
          "text": [
            "hello\n",
            "hello\n"
          ],
          "name": "stdout"
        }
      ]
    },
    {
      "cell_type": "markdown",
      "metadata": {
        "id": "Dk2tF5rjFBLL",
        "colab_type": "text"
      },
      "source": [
        "global variable"
      ]
    },
    {
      "cell_type": "code",
      "metadata": {
        "id": "B9YOXBdME6Bx",
        "colab_type": "code",
        "outputId": "05f658ad-ffc1-4e1f-c312-595d30884bd0",
        "colab": {
          "base_uri": "https://localhost:8080/",
          "height": 54
        }
      },
      "source": [
        "# Global variable\n",
        "def bob():\n",
        "    global me\n",
        "    me = \"locally defined\"   # Defined locally but declared as global\n",
        "    print(me)\n",
        "\n",
        "bob()\n",
        "print(me) # Asking for a global variable"
      ],
      "execution_count": 0,
      "outputs": [
        {
          "output_type": "stream",
          "text": [
            "locally defined\n",
            "locally defined\n"
          ],
          "name": "stdout"
        }
      ]
    },
    {
      "cell_type": "code",
      "metadata": {
        "id": "bS_vYHMLFIwW",
        "colab_type": "code",
        "outputId": "40f8107b-f2b2-4e47-d6db-d88332dc0183",
        "colab": {
          "base_uri": "https://localhost:8080/",
          "height": 35
        }
      },
      "source": [
        "# Refer to global variable if not found locally\n",
        "s = \"I love New York!!!\"\n",
        "\n",
        "def f(): \n",
        "    print(s) # try to find in global scope\n",
        "    \n",
        "s = \"I love Paris in the summer!!!\" #global scope\n",
        "\n",
        "f()"
      ],
      "execution_count": 0,
      "outputs": [
        {
          "output_type": "stream",
          "text": [
            "I love Paris in the summer!!!\n"
          ],
          "name": "stdout"
        }
      ]
    },
    {
      "cell_type": "code",
      "metadata": {
        "id": "mv6cT33OFSch",
        "colab_type": "code",
        "outputId": "7cbd5274-b751-4c4c-c90e-cc66af58eebd",
        "colab": {
          "base_uri": "https://localhost:8080/",
          "height": 356
        }
      },
      "source": [
        "#  Can't use variable locally before defining it\n",
        "def f(): \n",
        "    print(s) # Error\n",
        "    s = \"I love London!\"\n",
        "\n",
        "s = \"I love Paris!\" \n",
        "f()\n",
        "print(s)"
      ],
      "execution_count": 0,
      "outputs": [
        {
          "output_type": "error",
          "ename": "UnboundLocalError",
          "evalue": "ignored",
          "traceback": [
            "\u001b[0;31m---------------------------------------------------------------------------\u001b[0m",
            "\u001b[0;31mUnboundLocalError\u001b[0m                         Traceback (most recent call last)",
            "\u001b[0;32m<ipython-input-10-19318bfead96>\u001b[0m in \u001b[0;36m<module>\u001b[0;34m()\u001b[0m\n\u001b[1;32m      5\u001b[0m \u001b[0;34m\u001b[0m\u001b[0m\n\u001b[1;32m      6\u001b[0m \u001b[0ms\u001b[0m \u001b[0;34m=\u001b[0m \u001b[0;34m\"I love Paris!\"\u001b[0m\u001b[0;34m\u001b[0m\u001b[0;34m\u001b[0m\u001b[0m\n\u001b[0;32m----> 7\u001b[0;31m \u001b[0mf\u001b[0m\u001b[0;34m(\u001b[0m\u001b[0;34m)\u001b[0m\u001b[0;34m\u001b[0m\u001b[0;34m\u001b[0m\u001b[0m\n\u001b[0m\u001b[1;32m      8\u001b[0m \u001b[0mprint\u001b[0m\u001b[0;34m(\u001b[0m\u001b[0ms\u001b[0m\u001b[0;34m)\u001b[0m\u001b[0;34m\u001b[0m\u001b[0;34m\u001b[0m\u001b[0m\n",
            "\u001b[0;32m<ipython-input-10-19318bfead96>\u001b[0m in \u001b[0;36mf\u001b[0;34m()\u001b[0m\n\u001b[1;32m      1\u001b[0m \u001b[0;31m#  Can't use variable locally before defining it\u001b[0m\u001b[0;34m\u001b[0m\u001b[0;34m\u001b[0m\u001b[0;34m\u001b[0m\u001b[0m\n\u001b[1;32m      2\u001b[0m \u001b[0;32mdef\u001b[0m \u001b[0mf\u001b[0m\u001b[0;34m(\u001b[0m\u001b[0;34m)\u001b[0m\u001b[0;34m:\u001b[0m\u001b[0;34m\u001b[0m\u001b[0;34m\u001b[0m\u001b[0m\n\u001b[0;32m----> 3\u001b[0;31m     \u001b[0mprint\u001b[0m\u001b[0;34m(\u001b[0m\u001b[0ms\u001b[0m\u001b[0;34m)\u001b[0m \u001b[0;31m# Error\u001b[0m\u001b[0;34m\u001b[0m\u001b[0;34m\u001b[0m\u001b[0m\n\u001b[0m\u001b[1;32m      4\u001b[0m     \u001b[0ms\u001b[0m \u001b[0;34m=\u001b[0m \u001b[0;34m\"I love London!\"\u001b[0m\u001b[0;34m\u001b[0m\u001b[0;34m\u001b[0m\u001b[0m\n\u001b[1;32m      5\u001b[0m \u001b[0;34m\u001b[0m\u001b[0m\n",
            "\u001b[0;31mUnboundLocalError\u001b[0m: local variable 's' referenced before assignment"
          ]
        }
      ]
    },
    {
      "cell_type": "markdown",
      "metadata": {
        "id": "z4lHjaVua-Jp",
        "colab_type": "text"
      },
      "source": [
        "# Data Types\n",
        "Text Type: \tstr\n",
        "\n",
        "Numeric Types: \tint, float, complex\n",
        "\n",
        "Sequence Types: \tlist, tuple, range\n",
        "\n",
        "Mapping Type: \tdict\n",
        "\n",
        "Set Types: \tset, frozenset\n",
        "\n",
        "Boolean Type: \tbool\n",
        "\n",
        "Binary Types: \tbytes, bytearray, memoryview"
      ]
    },
    {
      "cell_type": "code",
      "metadata": {
        "id": "34PE403naskZ",
        "colab_type": "code",
        "outputId": "168ba53b-3e3d-4122-83b3-597320686000",
        "colab": {
          "base_uri": "https://localhost:8080/",
          "height": 35
        }
      },
      "source": [
        "# text \n",
        "x = \"string\"\n",
        "print(\"text : \",x)"
      ],
      "execution_count": 0,
      "outputs": [
        {
          "output_type": "stream",
          "text": [
            "text :  string\n"
          ],
          "name": "stdout"
        }
      ]
    },
    {
      "cell_type": "code",
      "metadata": {
        "id": "CAHj9HZEeHq8",
        "colab_type": "code",
        "outputId": "b5094522-08bd-4bb4-f181-8d9dca20330d",
        "colab": {
          "base_uri": "https://localhost:8080/",
          "height": 35
        }
      },
      "source": [
        "# numeric data type\n",
        "x = 10\n",
        "y = 10.0\n",
        "z = 10j\n",
        "print(\"int = \",x,\"float = \",y,\"complex = \",z)\n"
      ],
      "execution_count": 0,
      "outputs": [
        {
          "output_type": "stream",
          "text": [
            "int =  10 float =  10.0 complex =  10j\n"
          ],
          "name": "stdout"
        }
      ]
    },
    {
      "cell_type": "markdown",
      "metadata": {
        "id": "GWa3TKLZghP_",
        "colab_type": "text"
      },
      "source": [
        "# List"
      ]
    },
    {
      "cell_type": "code",
      "metadata": {
        "id": "opaiyplLfCGW",
        "colab_type": "code",
        "outputId": "fd30f2db-46c9-4947-9fab-ef5906370846",
        "colab": {
          "base_uri": "https://localhost:8080/",
          "height": 35
        }
      },
      "source": [
        "# Sequence type\n",
        "x = [\"apple\", \"banana\", \"cherry\"] \n",
        "print(x)"
      ],
      "execution_count": 0,
      "outputs": [
        {
          "output_type": "stream",
          "text": [
            "['apple', 'banana', 'cherry']\n"
          ],
          "name": "stdout"
        }
      ]
    },
    {
      "cell_type": "code",
      "metadata": {
        "id": "2UBGVcV-gCj2",
        "colab_type": "code",
        "outputId": "ca0b3358-ec5b-4d1c-c2c6-42a5b473d6ca",
        "colab": {
          "base_uri": "https://localhost:8080/",
          "height": 35
        }
      },
      "source": [
        "# index start from 0 to n\n",
        "x[0]"
      ],
      "execution_count": 0,
      "outputs": [
        {
          "output_type": "execute_result",
          "data": {
            "text/plain": [
              "'apple'"
            ]
          },
          "metadata": {
            "tags": []
          },
          "execution_count": 25
        }
      ]
    },
    {
      "cell_type": "code",
      "metadata": {
        "id": "hc0sbLPugHYd",
        "colab_type": "code",
        "outputId": "884275bb-f05c-4de3-f9b5-1db59a577835",
        "colab": {
          "base_uri": "https://localhost:8080/",
          "height": 35
        }
      },
      "source": [
        "x[1]"
      ],
      "execution_count": 0,
      "outputs": [
        {
          "output_type": "execute_result",
          "data": {
            "text/plain": [
              "'banana'"
            ]
          },
          "metadata": {
            "tags": []
          },
          "execution_count": 26
        }
      ]
    },
    {
      "cell_type": "code",
      "metadata": {
        "id": "wAPYMDTxgImR",
        "colab_type": "code",
        "outputId": "d0b93ee4-692f-4083-8cbb-fd0d4b6b734f",
        "colab": {
          "base_uri": "https://localhost:8080/",
          "height": 35
        }
      },
      "source": [
        "x[2]"
      ],
      "execution_count": 0,
      "outputs": [
        {
          "output_type": "execute_result",
          "data": {
            "text/plain": [
              "'cherry'"
            ]
          },
          "metadata": {
            "tags": []
          },
          "execution_count": 27
        }
      ]
    },
    {
      "cell_type": "code",
      "metadata": {
        "id": "q6aSJonqgJca",
        "colab_type": "code",
        "outputId": "8d8a8093-c081-4b4f-9ec8-54b5df325a96",
        "colab": {
          "base_uri": "https://localhost:8080/",
          "height": 172
        }
      },
      "source": [
        "# while exceeding the index value it givse error\n",
        "x[3]"
      ],
      "execution_count": 0,
      "outputs": [
        {
          "output_type": "error",
          "ename": "IndexError",
          "evalue": "ignored",
          "traceback": [
            "\u001b[0;31m---------------------------------------------------------------------------\u001b[0m",
            "\u001b[0;31mIndexError\u001b[0m                                Traceback (most recent call last)",
            "\u001b[0;32m<ipython-input-28-dc2cd44e899d>\u001b[0m in \u001b[0;36m<module>\u001b[0;34m()\u001b[0m\n\u001b[0;32m----> 1\u001b[0;31m \u001b[0mx\u001b[0m\u001b[0;34m[\u001b[0m\u001b[0;36m3\u001b[0m\u001b[0;34m]\u001b[0m\u001b[0;34m\u001b[0m\u001b[0;34m\u001b[0m\u001b[0m\n\u001b[0m",
            "\u001b[0;31mIndexError\u001b[0m: list index out of range"
          ]
        }
      ]
    },
    {
      "cell_type": "markdown",
      "metadata": {
        "id": "jAsIFFYmgm4J",
        "colab_type": "text"
      },
      "source": [
        "# Data types"
      ]
    },
    {
      "cell_type": "markdown",
      "metadata": {
        "id": "2WveK0ubA95L",
        "colab_type": "text"
      },
      "source": [
        "Integer"
      ]
    },
    {
      "cell_type": "code",
      "metadata": {
        "id": "qxNVln26gKMc",
        "colab_type": "code",
        "outputId": "43efba02-ba07-4c67-dd2e-683fec015946",
        "colab": {
          "base_uri": "https://localhost:8080/",
          "height": 35
        }
      },
      "source": [
        "a = 5\n",
        "print(a, \"is of type\", type(a))"
      ],
      "execution_count": 0,
      "outputs": [
        {
          "output_type": "stream",
          "text": [
            "5 is of type <class 'int'>\n"
          ],
          "name": "stdout"
        }
      ]
    },
    {
      "cell_type": "markdown",
      "metadata": {
        "id": "qP9144k_BBoB",
        "colab_type": "text"
      },
      "source": [
        "float"
      ]
    },
    {
      "cell_type": "code",
      "metadata": {
        "id": "mebKM1KWFtA3",
        "colab_type": "code",
        "outputId": "091f609b-c509-4eed-f929-611c3dd2527e",
        "colab": {
          "base_uri": "https://localhost:8080/",
          "height": 35
        }
      },
      "source": [
        "a = 2.0\n",
        "print(a, \"is of type\", type(a))"
      ],
      "execution_count": 0,
      "outputs": [
        {
          "output_type": "stream",
          "text": [
            "2.0 is of type <class 'float'>\n"
          ],
          "name": "stdout"
        }
      ]
    },
    {
      "cell_type": "markdown",
      "metadata": {
        "id": "nU89wp-uBHWY",
        "colab_type": "text"
      },
      "source": [
        "complex"
      ]
    },
    {
      "cell_type": "code",
      "metadata": {
        "id": "y9pfL8S_FzMN",
        "colab_type": "code",
        "outputId": "afca976e-e118-4060-8c7c-c80cdff884ca",
        "colab": {
          "base_uri": "https://localhost:8080/",
          "height": 35
        }
      },
      "source": [
        "a = 1+2j\n",
        "print(a, \"is complex number?\", isinstance(1+2j,complex))"
      ],
      "execution_count": 0,
      "outputs": [
        {
          "output_type": "stream",
          "text": [
            "(1+2j) is complex number? True\n"
          ],
          "name": "stdout"
        }
      ]
    },
    {
      "cell_type": "markdown",
      "metadata": {
        "id": "l3JCISy-BLez",
        "colab_type": "text"
      },
      "source": [
        "str"
      ]
    },
    {
      "cell_type": "code",
      "metadata": {
        "id": "O3t7VVCiFwe0",
        "colab_type": "code",
        "outputId": "12da085b-1227-4017-e60b-f84a7003566b",
        "colab": {
          "base_uri": "https://localhost:8080/",
          "height": 35
        }
      },
      "source": [
        "a = \"Grey Atom\"\n",
        "print(a, \"is of type\", type(a))"
      ],
      "execution_count": 0,
      "outputs": [
        {
          "output_type": "stream",
          "text": [
            "Grey Atom is of type <class 'str'>\n"
          ],
          "name": "stdout"
        }
      ]
    },
    {
      "cell_type": "markdown",
      "metadata": {
        "id": "hTwHR2q0BPN3",
        "colab_type": "text"
      },
      "source": [
        "bool\n"
      ]
    },
    {
      "cell_type": "code",
      "metadata": {
        "id": "8_VSSkpzF2O_",
        "colab_type": "code",
        "outputId": "4b21e278-2c84-4130-915f-9f97e7616dc5",
        "colab": {
          "base_uri": "https://localhost:8080/",
          "height": 35
        }
      },
      "source": [
        "a = True\n",
        "print(a, \"is of type\", type(a))"
      ],
      "execution_count": 0,
      "outputs": [
        {
          "output_type": "stream",
          "text": [
            "True is of type <class 'bool'>\n"
          ],
          "name": "stdout"
        }
      ]
    },
    {
      "cell_type": "code",
      "metadata": {
        "id": "fjomnQ0JF5nb",
        "colab_type": "code",
        "outputId": "36860150-a796-4457-a008-e8ea4fd27e0d",
        "colab": {
          "base_uri": "https://localhost:8080/",
          "height": 35
        }
      },
      "source": [
        "a = [1, 2, 3, 4, \"hello\", [\"a\", \"b\"], True, False]\n",
        "#print(a, \"is of type\", type(a))\n",
        "\n",
        "a = None\n",
        "b = None \n",
        "print(a)"
      ],
      "execution_count": 0,
      "outputs": [
        {
          "output_type": "stream",
          "text": [
            "None\n"
          ],
          "name": "stdout"
        }
      ]
    },
    {
      "cell_type": "markdown",
      "metadata": {
        "id": "0BQl1r0HBWoi",
        "colab_type": "text"
      },
      "source": [
        "Dictionary"
      ]
    },
    {
      "cell_type": "code",
      "metadata": {
        "id": "3Yyobak3F8xM",
        "colab_type": "code",
        "outputId": "a1c67691-dea1-4888-951e-5cb9be579caa",
        "colab": {
          "base_uri": "https://localhost:8080/",
          "height": 35
        }
      },
      "source": [
        "a = {\"institute\" : \"Grey Atom\", \"course\" : \"Data Science\"}\n",
        "print(a, \"is of type\", type(a))"
      ],
      "execution_count": 0,
      "outputs": [
        {
          "output_type": "stream",
          "text": [
            "{'institute': 'Grey Atom', 'course': 'Data Science'} is of type <class 'dict'>\n"
          ],
          "name": "stdout"
        }
      ]
    },
    {
      "cell_type": "markdown",
      "metadata": {
        "id": "YcDlsG9SBdz2",
        "colab_type": "text"
      },
      "source": [
        "List"
      ]
    },
    {
      "cell_type": "code",
      "metadata": {
        "id": "ni7TtnR6GDbd",
        "colab_type": "code",
        "outputId": "9c9145e9-7280-4cf9-ac2c-d08fc0a55c4b",
        "colab": {
          "base_uri": "https://localhost:8080/",
          "height": 54
        }
      },
      "source": [
        "#a = (\"Peter\", \"Male\", 26)\n",
        "#print(a, \"is of type\", type(a))\n",
        "\n",
        "l = [1,2,3,4]\n",
        "m = l\n",
        "\n",
        "#l = l.append(5)\n",
        "\n",
        "m.append(6)\n",
        "\n",
        "print(l,type(l))\n",
        "print(m,type(m))"
      ],
      "execution_count": 0,
      "outputs": [
        {
          "output_type": "stream",
          "text": [
            "[1, 2, 3, 4, 6] <class 'list'>\n",
            "[1, 2, 3, 4, 6] <class 'list'>\n"
          ],
          "name": "stdout"
        }
      ]
    },
    {
      "cell_type": "code",
      "metadata": {
        "id": "UI34tTUnGHy0",
        "colab_type": "code",
        "outputId": "f3eed80f-c7d4-491a-ceeb-b9bdf1a15b38",
        "colab": {
          "base_uri": "https://localhost:8080/",
          "height": 35
        }
      },
      "source": [
        "print (\"Total Money in My Pocket: \", 10*5 + 5*100)"
      ],
      "execution_count": 0,
      "outputs": [
        {
          "output_type": "stream",
          "text": [
            "Total Money in My Pocket:  550\n"
          ],
          "name": "stdout"
        }
      ]
    },
    {
      "cell_type": "code",
      "metadata": {
        "id": "vRGh3-jLGfgS",
        "colab_type": "code",
        "outputId": "b9f0b144-fc99-478f-c524-57f5c606acf1",
        "colab": {
          "base_uri": "https://localhost:8080/",
          "height": 35
        }
      },
      "source": [
        "print(\"2 to the power 4 is : \", 2 ** 4);\n",
        "\n"
      ],
      "execution_count": 0,
      "outputs": [
        {
          "output_type": "stream",
          "text": [
            "2 to the power 4 is :  16\n"
          ],
          "name": "stdout"
        }
      ]
    },
    {
      "cell_type": "code",
      "metadata": {
        "id": "r-NPjfkPGjb5",
        "colab_type": "code",
        "outputId": "c688a4d0-6e0b-42c4-c671-5b5e055ab95a",
        "colab": {
          "base_uri": "https://localhost:8080/",
          "height": 35
        }
      },
      "source": [
        "print(\"Power can also be calculated with pow(): \", pow(2, 4))\n"
      ],
      "execution_count": 0,
      "outputs": [
        {
          "output_type": "stream",
          "text": [
            "Power can also be calculated with pow():  16\n"
          ],
          "name": "stdout"
        }
      ]
    },
    {
      "cell_type": "code",
      "metadata": {
        "id": "A2m-yPtNGnt5",
        "colab_type": "code",
        "outputId": "f30bf292-272b-4aa1-ab76-fb7dd9553f69",
        "colab": {
          "base_uri": "https://localhost:8080/",
          "height": 35
        }
      },
      "source": [
        "print (\"Is it true that 2 is less than 3? \", 2 == 3)\n",
        "\n",
        "\n"
      ],
      "execution_count": 0,
      "outputs": [
        {
          "output_type": "stream",
          "text": [
            "Is it true that 2 is less than 3?  False\n"
          ],
          "name": "stdout"
        }
      ]
    },
    {
      "cell_type": "code",
      "metadata": {
        "id": "nvIqouGMGtG9",
        "colab_type": "code",
        "outputId": "4938d369-c156-49e8-dc6e-79fec6f44f68",
        "colab": {
          "base_uri": "https://localhost:8080/",
          "height": 35
        }
      },
      "source": [
        "\n",
        "print(\"Remainder of 5 divided by 2: \", 5%2)\n",
        "\n"
      ],
      "execution_count": 0,
      "outputs": [
        {
          "output_type": "stream",
          "text": [
            "Remainder of 5 divided by 2:  1\n"
          ],
          "name": "stdout"
        }
      ]
    },
    {
      "cell_type": "code",
      "metadata": {
        "id": "qaL3Ve5uGxuG",
        "colab_type": "code",
        "outputId": "a797611c-5d45-4e20-fbf9-1557ef5eabd7",
        "colab": {
          "base_uri": "https://localhost:8080/",
          "height": 35
        }
      },
      "source": [
        "num1= 5\n",
        "num2 =10\n",
        "\n",
        "sum  = num1+num2\n",
        "print (sum)\n",
        "\n"
      ],
      "execution_count": 0,
      "outputs": [
        {
          "output_type": "stream",
          "text": [
            "15\n"
          ],
          "name": "stdout"
        }
      ]
    },
    {
      "cell_type": "code",
      "metadata": {
        "id": "QE0izj1TG2lr",
        "colab_type": "code",
        "outputId": "8f8ad00c-4382-4cf0-e785-6a1038e8816a",
        "colab": {
          "base_uri": "https://localhost:8080/",
          "height": 54
        }
      },
      "source": [
        "# Rounding a float value\n",
        "print(\"rounding a float value : \", round(2.8));\n",
        "\n",
        "('rounding a float value : ', 3.0)\n"
      ],
      "execution_count": 0,
      "outputs": [
        {
          "output_type": "stream",
          "text": [
            "rounding a float value :  3\n"
          ],
          "name": "stdout"
        },
        {
          "output_type": "execute_result",
          "data": {
            "text/plain": [
              "('rounding a float value : ', 3.0)"
            ]
          },
          "metadata": {
            "tags": []
          },
          "execution_count": 27
        }
      ]
    },
    {
      "cell_type": "code",
      "metadata": {
        "id": "bdrlNNA_G7Y3",
        "colab_type": "code",
        "outputId": "e8a33206-4dc9-45af-8c6a-197a8cbb7326",
        "colab": {
          "base_uri": "https://localhost:8080/",
          "height": 35
        }
      },
      "source": [
        "# Absolute value\n",
        "print(\"absolute value of -2 is : \", abs(-2))\n"
      ],
      "execution_count": 0,
      "outputs": [
        {
          "output_type": "stream",
          "text": [
            "absolute value of -2 is :  2\n"
          ],
          "name": "stdout"
        }
      ]
    },
    {
      "cell_type": "code",
      "metadata": {
        "id": "kLPNrxDfG_W2",
        "colab_type": "code",
        "outputId": "b5582a47-bd44-4f8a-df2b-9c374e5a8ec2",
        "colab": {
          "base_uri": "https://localhost:8080/",
          "height": 72
        }
      },
      "source": [
        "import math\n",
        "print (type(math))\n",
        "\n",
        "print (math.sqrt(12))\n",
        "print (math.floor(2.5))\n",
        "\n"
      ],
      "execution_count": 0,
      "outputs": [
        {
          "output_type": "stream",
          "text": [
            "<class 'module'>\n",
            "3.4641016151377544\n",
            "2\n"
          ],
          "name": "stdout"
        }
      ]
    },
    {
      "cell_type": "markdown",
      "metadata": {
        "id": "qKsi-A80B0Tu",
        "colab_type": "text"
      },
      "source": [
        "# STRING"
      ]
    },
    {
      "cell_type": "code",
      "metadata": {
        "id": "Lba_zsGmHBFj",
        "colab_type": "code",
        "outputId": "3ab8a68f-876c-478b-e289-93decd398fba",
        "colab": {
          "base_uri": "https://localhost:8080/",
          "height": 35
        }
      },
      "source": [
        "str1 = 'single quotes'\n",
        "print(str1)\n"
      ],
      "execution_count": 0,
      "outputs": [
        {
          "output_type": "stream",
          "text": [
            "single quotes\n"
          ],
          "name": "stdout"
        }
      ]
    },
    {
      "cell_type": "code",
      "metadata": {
        "id": "tMDXCaqEB9xg",
        "colab_type": "code",
        "outputId": "13052db0-6b99-4eb5-8539-03f4b0760e06",
        "colab": {
          "base_uri": "https://localhost:8080/",
          "height": 35
        }
      },
      "source": [
        "\n",
        "str2 = \"double quotes\"\n",
        "print(str2)\n"
      ],
      "execution_count": 0,
      "outputs": [
        {
          "output_type": "stream",
          "text": [
            "double quotes\n"
          ],
          "name": "stdout"
        }
      ]
    },
    {
      "cell_type": "code",
      "metadata": {
        "id": "8cv7G-AMB9jJ",
        "colab_type": "code",
        "outputId": "71f43965-803e-4e31-9c85-c4a22ca61622",
        "colab": {
          "base_uri": "https://localhost:8080/",
          "height": 54
        }
      },
      "source": [
        "\n",
        "print ('The newline \\n will not expand')\n",
        "\n"
      ],
      "execution_count": 0,
      "outputs": [
        {
          "output_type": "stream",
          "text": [
            "The newline \n",
            " will not expand\n"
          ],
          "name": "stdout"
        }
      ]
    },
    {
      "cell_type": "code",
      "metadata": {
        "id": "V9T0GEdyB9S_",
        "colab_type": "code",
        "outputId": "bcde0bd3-15ee-48a4-bc42-72a334a9f666",
        "colab": {
          "base_uri": "https://localhost:8080/",
          "height": 35
        }
      },
      "source": [
        "# Character can be accessed by index\n",
        "string = \"hello world\"\n",
        "print (string[0])\n",
        "\n"
      ],
      "execution_count": 0,
      "outputs": [
        {
          "output_type": "stream",
          "text": [
            "h\n"
          ],
          "name": "stdout"
        }
      ]
    },
    {
      "cell_type": "code",
      "metadata": {
        "id": "QVBmpxz6B9Ch",
        "colab_type": "code",
        "outputId": "486e62c7-905b-4e14-c0fa-29bbc0b0a5d4",
        "colab": {
          "base_uri": "https://localhost:8080/",
          "height": 35
        }
      },
      "source": [
        "# Concatenation\n",
        "string = \"hello world\"\n",
        "string = string + ' Goodbye, world';\n",
        "print(string)"
      ],
      "execution_count": 0,
      "outputs": [
        {
          "output_type": "stream",
          "text": [
            "hello world Goodbye, world\n"
          ],
          "name": "stdout"
        }
      ]
    },
    {
      "cell_type": "code",
      "metadata": {
        "id": "4AfZViRpCNJF",
        "colab_type": "code",
        "outputId": "b5175dad-0254-4039-8805-603670649eb4",
        "colab": {
          "base_uri": "https://localhost:8080/",
          "height": 35
        }
      },
      "source": [
        "# Repeat words\n",
        "string = \"hello world \"\n",
        "print(string*2)"
      ],
      "execution_count": 0,
      "outputs": [
        {
          "output_type": "stream",
          "text": [
            "hello world hello world \n"
          ],
          "name": "stdout"
        }
      ]
    },
    {
      "cell_type": "markdown",
      "metadata": {
        "id": "ix74bzxPCSk-",
        "colab_type": "text"
      },
      "source": [
        "# *SUBSTRING*"
      ]
    },
    {
      "cell_type": "code",
      "metadata": {
        "id": "DCgl_wA1Awnr",
        "colab_type": "code",
        "outputId": "a78cdec0-4526-4300-8309-bd43c91c6e6f",
        "colab": {
          "base_uri": "https://localhost:8080/",
          "height": 90
        }
      },
      "source": [
        "# Substrings\n",
        "\n",
        "string = \"Hello world again and again\"\n",
        "string[10:-23]\n",
        "\n",
        "print (string[6:11]) # \"world\"\n",
        "print (string[:5])   # \"Hello\"\n",
        "print (string[22:])  # \"again\"\n",
        "print (string[-7:-2])# \"d aga\"\n"
      ],
      "execution_count": 0,
      "outputs": [
        {
          "output_type": "stream",
          "text": [
            "world\n",
            "Hello\n",
            "again\n",
            "d aga\n"
          ],
          "name": "stdout"
        }
      ]
    },
    {
      "cell_type": "markdown",
      "metadata": {
        "id": "zz7D5gyKC00H",
        "colab_type": "text"
      },
      "source": [
        "# LIST"
      ]
    },
    {
      "cell_type": "code",
      "metadata": {
        "id": "ranE0yIJC0PB",
        "colab_type": "code",
        "outputId": "9d904138-8178-484c-97f2-e82678d41501",
        "colab": {
          "base_uri": "https://localhost:8080/",
          "height": 35
        }
      },
      "source": [
        "marks = [20, 50, 30, 80, 75,  65]\n",
        "\n",
        "list_of_different_objects = [\"Peter\", 1000, 10.5]\n",
        "\n",
        "list_of_lists = [marks, list_of_different_objects, ['red','green','blue']]\n",
        "\n",
        "# Empty list\n",
        "empty_list = []\n",
        "empty_list.append(1) # add 1 to list\n",
        "empty_list.append(2) # add 2 to list\n",
        "empty_list.append(3) # add 3 to list\n",
        "print (empty_list)"
      ],
      "execution_count": 0,
      "outputs": [
        {
          "output_type": "stream",
          "text": [
            "[1, 2, 3]\n"
          ],
          "name": "stdout"
        }
      ]
    },
    {
      "cell_type": "code",
      "metadata": {
        "id": "isvu9sN5CcyX",
        "colab_type": "code",
        "outputId": "18a74036-8428-47ec-b9a3-75eefb7eed90",
        "colab": {
          "base_uri": "https://localhost:8080/",
          "height": 35
        }
      },
      "source": [
        "# list indexing\n",
        "x = [1,2,3,4,5]\n",
        "x[0]"
      ],
      "execution_count": 0,
      "outputs": [
        {
          "output_type": "execute_result",
          "data": {
            "text/plain": [
              "1"
            ]
          },
          "metadata": {
            "tags": []
          },
          "execution_count": 20
        }
      ]
    },
    {
      "cell_type": "code",
      "metadata": {
        "id": "IWx2JVCjDHnM",
        "colab_type": "code",
        "outputId": "d1b51c2f-cfbb-4219-94e5-a54db88e8e08",
        "colab": {
          "base_uri": "https://localhost:8080/",
          "height": 35
        }
      },
      "source": [
        "# Access from last value\n",
        "x[-1]"
      ],
      "execution_count": 0,
      "outputs": [
        {
          "output_type": "execute_result",
          "data": {
            "text/plain": [
              "5"
            ]
          },
          "metadata": {
            "tags": []
          },
          "execution_count": 21
        }
      ]
    },
    {
      "cell_type": "code",
      "metadata": {
        "id": "Ev62VkW-DOJ7",
        "colab_type": "code",
        "outputId": "b06739c1-337f-4b0e-b6af-01bf5e7a90bf",
        "colab": {
          "base_uri": "https://localhost:8080/",
          "height": 90
        }
      },
      "source": [
        "# List element can be accessed by index position like in string\n",
        "marks = [20, 50, 30, 80, 75,  65]\n",
        "print (marks[0])  # 20\n",
        "print (marks[2])  # 30\n",
        "print (marks[-1]) # index from last\n",
        "print (marks[-4]) # index from last"
      ],
      "execution_count": 0,
      "outputs": [
        {
          "output_type": "stream",
          "text": [
            "20\n",
            "30\n",
            "65\n",
            "30\n"
          ],
          "name": "stdout"
        }
      ]
    },
    {
      "cell_type": "code",
      "metadata": {
        "id": "eSzUPf5dDUgt",
        "colab_type": "code",
        "outputId": "7f438846-4ed2-4b04-c2ad-26b8bc0d8775",
        "colab": {
          "base_uri": "https://localhost:8080/",
          "height": 54
        }
      },
      "source": [
        "# Nested list\n",
        "nested_list = [1,2,3,[4,5,['target']]]\n",
        "print (nested_list[3])\n",
        "print (nested_list[3][2])\n",
        "\n"
      ],
      "execution_count": 0,
      "outputs": [
        {
          "output_type": "stream",
          "text": [
            "[4, 5, ['target']]\n",
            "['target']\n"
          ],
          "name": "stdout"
        }
      ]
    },
    {
      "cell_type": "code",
      "metadata": {
        "id": "DRVjo64eDgVa",
        "colab_type": "code",
        "outputId": "f33b3cb0-7668-4ded-b61b-19488d8c7fb8",
        "colab": {
          "base_uri": "https://localhost:8080/",
          "height": 54
        }
      },
      "source": [
        "\n",
        "colors = ['RED', 'GREEN', 'BLUE', 'YELLOW']\n",
        "print (colors[1:-1])        # ['RED', 'YELLOW']\n",
        "\n",
        "colors[0:2] = [\"PURPLE\"]    # replace ['RED', 'GREEN'] with ['PURPLE']\n",
        "print (colors)"
      ],
      "execution_count": 0,
      "outputs": [
        {
          "output_type": "stream",
          "text": [
            "['GREEN', 'BLUE']\n",
            "['PURPLE', 'BLUE', 'YELLOW']\n"
          ],
          "name": "stdout"
        }
      ]
    },
    {
      "cell_type": "code",
      "metadata": {
        "id": "2Eh4uvtTDmM-",
        "colab_type": "code",
        "outputId": "a085ebcc-ec47-4e01-a500-423c4afa5171",
        "colab": {
          "base_uri": "https://localhost:8080/",
          "height": 90
        }
      },
      "source": [
        "colors = ['RED', 'GREEN', 'BLUE', 'YELLOW']\n",
        "# The for-in statement makes it easy to loop over the items in a list\n",
        "for item in colors:\n",
        "        print (item)\n"
      ],
      "execution_count": 0,
      "outputs": [
        {
          "output_type": "stream",
          "text": [
            "RED\n",
            "GREEN\n",
            "BLUE\n",
            "YELLOW\n"
          ],
          "name": "stdout"
        }
      ]
    },
    {
      "cell_type": "code",
      "metadata": {
        "id": "jeeUuVHcEFWB",
        "colab_type": "code",
        "outputId": "e5f6e8f7-dd47-404d-c459-f697e1325800",
        "colab": {
          "base_uri": "https://localhost:8080/",
          "height": 164
        }
      },
      "source": [
        "        \n",
        "# If you need both the index and the item, use the enumerate function\n",
        "for index, item in enumerate(colors):\n",
        "    print(index, item)\n",
        "\n",
        "# Uncommon way - If you need only the index, use range and len\n",
        "for index in range(len(colors)):\n",
        "    print(index)\n"
      ],
      "execution_count": 0,
      "outputs": [
        {
          "output_type": "stream",
          "text": [
            "0 RED\n",
            "1 GREEN\n",
            "2 BLUE\n",
            "3 YELLOW\n",
            "0\n",
            "1\n",
            "2\n",
            "3\n"
          ],
          "name": "stdout"
        }
      ]
    },
    {
      "cell_type": "code",
      "metadata": {
        "id": "AvOGJ9a7EQmy",
        "colab_type": "code",
        "outputId": "98610ad3-42e8-4519-8a8a-9c3c2e167b9f",
        "colab": {
          "base_uri": "https://localhost:8080/",
          "height": 54
        }
      },
      "source": [
        "\n",
        "# The list object supports the iterator protocol\n",
        "itr = iter(colors)\n",
        "print(itr.__next__()) # fetch first value\n",
        "print(itr.__next__() )# fetch second value"
      ],
      "execution_count": 0,
      "outputs": [
        {
          "output_type": "stream",
          "text": [
            "RED\n",
            "GREEN\n"
          ],
          "name": "stdout"
        }
      ]
    },
    {
      "cell_type": "code",
      "metadata": {
        "id": "aqIWNhPNDu1W",
        "colab_type": "code",
        "colab": {
          "base_uri": "https://localhost:8080/",
          "height": 54
        },
        "outputId": "3bdb4730-3daa-4270-b084-0a69ab40b7b3"
      },
      "source": [
        "# Sum & Length\n",
        "marks = [20, 50, 30, 80, 75,  65]\n",
        "\n",
        "print (sum(marks))\n",
        "print (len(marks))\n",
        "\n",
        "\n"
      ],
      "execution_count": 70,
      "outputs": [
        {
          "output_type": "stream",
          "text": [
            "320\n",
            "6\n"
          ],
          "name": "stdout"
        }
      ]
    },
    {
      "cell_type": "code",
      "metadata": {
        "id": "y3imw7TQKHLM",
        "colab_type": "code",
        "colab": {
          "base_uri": "https://localhost:8080/",
          "height": 35
        },
        "outputId": "44702f94-1c45-4c3e-b694-e181595807b8"
      },
      "source": [
        "\n",
        "# append element at end\n",
        "colors = ['RED', 'GREEN', 'BLUE', 'YELLOW']\n",
        "colors.append('PURPLE')\n",
        "print (colors)\n"
      ],
      "execution_count": 69,
      "outputs": [
        {
          "output_type": "stream",
          "text": [
            "['RED', 'GREEN', 'BLUE', 'YELLOW', 'PURPLE']\n"
          ],
          "name": "stdout"
        }
      ]
    },
    {
      "cell_type": "code",
      "metadata": {
        "id": "8OuR2fZIKEih",
        "colab_type": "code",
        "colab": {
          "base_uri": "https://localhost:8080/",
          "height": 35
        },
        "outputId": "498dd308-af81-4588-ccc8-797611ec6a25"
      },
      "source": [
        "\n",
        "# insert at given index\n",
        "colors = ['RED', 'GREEN', 'BLUE', 'YELLOW']\n",
        "colors.insert(1,'PURPLE')\n",
        "print (colors)\n"
      ],
      "execution_count": 68,
      "outputs": [
        {
          "output_type": "stream",
          "text": [
            "['RED', 'PURPLE', 'GREEN', 'BLUE', 'YELLOW']\n"
          ],
          "name": "stdout"
        }
      ]
    },
    {
      "cell_type": "code",
      "metadata": {
        "id": "8ADInswyJ97N",
        "colab_type": "code",
        "colab": {
          "base_uri": "https://localhost:8080/",
          "height": 35
        },
        "outputId": "30666d46-2662-4806-9939-9d51b6bbc2d2"
      },
      "source": [
        "\n",
        "# Extend - adds the elements in list2 to the end of the list1.\n",
        "list1 = [1, 2, 3]\n",
        "list2 = [4, 5, 6]\n",
        "list1.extend(list2)\n",
        "print (list1)\n"
      ],
      "execution_count": 67,
      "outputs": [
        {
          "output_type": "stream",
          "text": [
            "[1, 2, 3, 4, 5, 6]\n"
          ],
          "name": "stdout"
        }
      ]
    },
    {
      "cell_type": "code",
      "metadata": {
        "id": "bmv2w6SsJ7Mr",
        "colab_type": "code",
        "colab": {
          "base_uri": "https://localhost:8080/",
          "height": 35
        },
        "outputId": "4a272969-e045-4ded-c3a9-2a0540c6b30d"
      },
      "source": [
        "\n",
        "# Extend using +\n",
        "level = [\"beginner\", \"intermediate\", \"advanced\"]\n",
        "other_words = [\"novice\", \"expert\"]\n",
        "print (level + other_words)\n",
        "\n"
      ],
      "execution_count": 66,
      "outputs": [
        {
          "output_type": "stream",
          "text": [
            "['beginner', 'intermediate', 'advanced', 'novice', 'expert']\n"
          ],
          "name": "stdout"
        }
      ]
    },
    {
      "cell_type": "code",
      "metadata": {
        "id": "7PrmcX-KJ4cb",
        "colab_type": "code",
        "colab": {
          "base_uri": "https://localhost:8080/",
          "height": 35
        },
        "outputId": "5a7c8ae6-2eb6-446c-a270-de0d91f66611"
      },
      "source": [
        "# Index of an element\n",
        "colors = ['RED', 'GREEN', 'BLUE', 'YELLOW']\n",
        "print (colors.index('BLUE'))\n",
        "\n"
      ],
      "execution_count": 65,
      "outputs": [
        {
          "output_type": "stream",
          "text": [
            "2\n"
          ],
          "name": "stdout"
        }
      ]
    },
    {
      "cell_type": "code",
      "metadata": {
        "id": "RWsYmj4tJ1jy",
        "colab_type": "code",
        "colab": {
          "base_uri": "https://localhost:8080/",
          "height": 35
        },
        "outputId": "6b402619-4574-41b5-d4ae-afbe0d08b65f"
      },
      "source": [
        "\n",
        "# Remove list element\n",
        "num = [1, 2, 3, 4]\n",
        "num.remove(2)\n",
        "print (num)\n",
        "\n"
      ],
      "execution_count": 64,
      "outputs": [
        {
          "output_type": "stream",
          "text": [
            "[1, 3, 4]\n"
          ],
          "name": "stdout"
        }
      ]
    },
    {
      "cell_type": "code",
      "metadata": {
        "id": "7W6cBg_YJzH6",
        "colab_type": "code",
        "colab": {
          "base_uri": "https://localhost:8080/",
          "height": 35
        },
        "outputId": "1a973c4c-76ed-4503-c51d-724796d04fbd"
      },
      "source": [
        "\n",
        "# use del to remove\n",
        "num = [1, 2, 3, 4]\n",
        "del num[1]\n",
        "print (num)\n"
      ],
      "execution_count": 63,
      "outputs": [
        {
          "output_type": "stream",
          "text": [
            "[1, 3, 4]\n"
          ],
          "name": "stdout"
        }
      ]
    },
    {
      "cell_type": "code",
      "metadata": {
        "id": "H6OuWt06Jvhg",
        "colab_type": "code",
        "colab": {
          "base_uri": "https://localhost:8080/",
          "height": 35
        },
        "outputId": "d24a764c-561e-4331-d105-092df667354e"
      },
      "source": [
        "\n",
        "# Sort in ascending order\n",
        "num = [5, 2, 4, 3]\n",
        "num.sort()\n",
        "print (num)\n"
      ],
      "execution_count": 62,
      "outputs": [
        {
          "output_type": "stream",
          "text": [
            "[2, 3, 4, 5]\n"
          ],
          "name": "stdout"
        }
      ]
    },
    {
      "cell_type": "code",
      "metadata": {
        "id": "pmoVl_CRJs2e",
        "colab_type": "code",
        "colab": {
          "base_uri": "https://localhost:8080/",
          "height": 35
        },
        "outputId": "649ef377-e9b9-45c5-8209-8581097a1571"
      },
      "source": [
        "\n",
        "# Reverse list\n",
        "letters = ['A', 'B', 'C', 'D']\n",
        "letters.reverse()\n",
        "print (letters)\n",
        "\n"
      ],
      "execution_count": 61,
      "outputs": [
        {
          "output_type": "stream",
          "text": [
            "['D', 'C', 'B', 'A']\n"
          ],
          "name": "stdout"
        }
      ]
    },
    {
      "cell_type": "code",
      "metadata": {
        "id": "EeAeKG38Jqa9",
        "colab_type": "code",
        "colab": {
          "base_uri": "https://localhost:8080/",
          "height": 54
        },
        "outputId": "cffa3c34-2691-445a-ed81-008f3b29e703"
      },
      "source": [
        "\n",
        "# pop a value\n",
        "num = [10, 20, 30, 40]\n",
        "x = num.pop(2)\n",
        "print (x)\n",
        "y = num.pop()\n",
        "print (y)\n"
      ],
      "execution_count": 60,
      "outputs": [
        {
          "output_type": "stream",
          "text": [
            "30\n",
            "40\n"
          ],
          "name": "stdout"
        }
      ]
    },
    {
      "cell_type": "code",
      "metadata": {
        "id": "AGUGwSS1Jmww",
        "colab_type": "code",
        "colab": {
          "base_uri": "https://localhost:8080/",
          "height": 35
        },
        "outputId": "7833142e-dfe9-465b-bc64-8899df680449"
      },
      "source": [
        "\n",
        "# check for pallindrome\n",
        "list = ['a', 'b', 'c', 'b', 'a']\n",
        "print (list == list[::-1])\n",
        "\n"
      ],
      "execution_count": 59,
      "outputs": [
        {
          "output_type": "stream",
          "text": [
            "True\n"
          ],
          "name": "stdout"
        }
      ]
    },
    {
      "cell_type": "code",
      "metadata": {
        "id": "N4sdzR8LJi4L",
        "colab_type": "code",
        "colab": {
          "base_uri": "https://localhost:8080/",
          "height": 35
        },
        "outputId": "69d45c00-5334-412e-889f-bb624ca6f509"
      },
      "source": [
        "\n",
        "# Remove duplicate from list\n",
        "t = [1, 2, 3, 1, 2, 5, 6, 7, 8]\n",
        "s = []\n",
        "for i in t:\n",
        "       if i not in s:\n",
        "          s.append(i)\n",
        "        \n",
        "print (s)\n",
        "\n"
      ],
      "execution_count": 58,
      "outputs": [
        {
          "output_type": "stream",
          "text": [
            "[1, 2, 3, 5, 6, 7, 8]\n"
          ],
          "name": "stdout"
        }
      ]
    },
    {
      "cell_type": "code",
      "metadata": {
        "id": "YBmRSGl_JeoI",
        "colab_type": "code",
        "colab": {
          "base_uri": "https://localhost:8080/",
          "height": 54
        },
        "outputId": "f4e6bf1b-4702-404c-e16f-05d53d7f5920"
      },
      "source": [
        "\n",
        "#Median\n",
        "list = [13, 23, 11, 16, 15, 10, 26]\n",
        "list.sort()\n",
        "print (list)\n",
        "length = len(list)\n",
        "print ('Median is: ', list[int(length/2)])\n",
        "\n"
      ],
      "execution_count": 57,
      "outputs": [
        {
          "output_type": "stream",
          "text": [
            "[10, 11, 13, 15, 16, 23, 26]\n",
            "Median is:  15\n"
          ],
          "name": "stdout"
        }
      ]
    },
    {
      "cell_type": "code",
      "metadata": {
        "id": "fcZBj5H9Eq5P",
        "colab_type": "code",
        "colab": {
          "base_uri": "https://localhost:8080/",
          "height": 35
        },
        "outputId": "c7a1a14c-fdc1-4b5d-9d87-9844c5c87681"
      },
      "source": [
        "\n",
        "# Generational Comprehension\n",
        "l = []\n",
        "for i in range(10):\n",
        "    l.append(i*i)\n",
        "\n",
        "d = {\"a\":1 , \"b\":2, \"c\":1 }\n",
        "\n",
        "l = [(k, d[k]) for k in d]\n",
        "print (l)\n",
        "\n",
        "\n"
      ],
      "execution_count": 56,
      "outputs": [
        {
          "output_type": "stream",
          "text": [
            "[('a', 1), ('b', 2), ('c', 1)]\n"
          ],
          "name": "stdout"
        }
      ]
    },
    {
      "cell_type": "code",
      "metadata": {
        "id": "nFmhA19mJLnj",
        "colab_type": "code",
        "colab": {
          "base_uri": "https://localhost:8080/",
          "height": 55
        },
        "outputId": "bef3ba75-d689-4f74-e787-d097e9eca8f4"
      },
      "source": [
        "\n",
        "# List Comprehension - Cross product of two sets\n",
        "colours = [\"red\", \"green\", \"yellow\"]\n",
        "things = [\"house\", \"car\", \"tree\" ]\n",
        "coloured_things = [ (x,y) for x in colours for y in things ]\n",
        "print (coloured_things)\n",
        "\n"
      ],
      "execution_count": 53,
      "outputs": [
        {
          "output_type": "stream",
          "text": [
            "[('red', 'house'), ('red', 'car'), ('red', 'tree'), ('green', 'house'), ('green', 'car'), ('green', 'tree'), ('yellow', 'house'), ('yellow', 'car'), ('yellow', 'tree')]\n"
          ],
          "name": "stdout"
        }
      ]
    },
    {
      "cell_type": "code",
      "metadata": {
        "id": "p76JQRZfJD-i",
        "colab_type": "code",
        "colab": {
          "base_uri": "https://localhost:8080/",
          "height": 35
        },
        "outputId": "5ab984b3-ea97-4894-e1ec-4a247f424173"
      },
      "source": [
        "\n",
        "# Convert Celsius to Fahrenheit \n",
        "Celsius = [39.2, 36.5, 37.3, 37.8]\n",
        "Fahrenheit = [ ((float(9)/5)*x + 32) for x in Celsius ]\n",
        "print (Fahrenheit)\n",
        "\n"
      ],
      "execution_count": 54,
      "outputs": [
        {
          "output_type": "stream",
          "text": [
            "[102.56, 97.7, 99.14, 100.03999999999999]\n"
          ],
          "name": "stdout"
        }
      ]
    },
    {
      "cell_type": "markdown",
      "metadata": {
        "id": "1ehFuyjmI_yq",
        "colab_type": "text"
      },
      "source": [
        "# Dict\n",
        "Python's efficient key/value hash table structure is called a \"dict\".\n"
      ]
    },
    {
      "cell_type": "code",
      "metadata": {
        "id": "i3zW-t59I7fX",
        "colab_type": "code",
        "colab": {
          "base_uri": "https://localhost:8080/",
          "height": 35
        },
        "outputId": "e8621200-9dd0-444b-b65e-c34afb63f464"
      },
      "source": [
        "## dict[key] = value-for-that-key\n",
        "institute = {}\n",
        "institute['name'] = 'Grey Atom'\n",
        "institute['course'] = 'Data Science'\n",
        "institute['duration'] = '3 Months'\n",
        "print (institute)\n"
      ],
      "execution_count": 51,
      "outputs": [
        {
          "output_type": "stream",
          "text": [
            "{'name': 'Grey Atom', 'course': 'Data Science', 'duration': '3 Months'}\n"
          ],
          "name": "stdout"
        }
      ]
    },
    {
      "cell_type": "code",
      "metadata": {
        "id": "kid4GOUsI4wy",
        "colab_type": "code",
        "colab": {
          "base_uri": "https://localhost:8080/",
          "height": 72
        },
        "outputId": "4b4b84fb-067f-401f-f2a0-fa436a22e994"
      },
      "source": [
        "\n",
        "print (institute['name'])\n",
        "print (institute['course'])\n",
        "print (institute['duration'])"
      ],
      "execution_count": 52,
      "outputs": [
        {
          "output_type": "stream",
          "text": [
            "Grey Atom\n",
            "Data Science\n",
            "3 Months\n"
          ],
          "name": "stdout"
        }
      ]
    },
    {
      "cell_type": "code",
      "metadata": {
        "id": "MLJgoyOoI04a",
        "colab_type": "code",
        "colab": {
          "base_uri": "https://localhost:8080/",
          "height": 35
        },
        "outputId": "a196109d-d449-479c-e413-d0150b2dbe90"
      },
      "source": [
        "# Iterating over a dict iterates over its keys.\n",
        "d = {'r': 'red', 'g': 'green', 'b': 'blue', 'c': 'cyan'}\n",
        "#for key in d: print (key) #for key in dict.keys(): print key\n",
        "\n",
        "['c', 'r', 'b', 'g']\n",
        "{3: 'red', 4: 'blue', 5: 'green'}\n"
      ],
      "execution_count": 48,
      "outputs": [
        {
          "output_type": "execute_result",
          "data": {
            "text/plain": [
              "{3: 'red', 4: 'blue', 5: 'green'}"
            ]
          },
          "metadata": {
            "tags": []
          },
          "execution_count": 48
        }
      ]
    },
    {
      "cell_type": "markdown",
      "metadata": {
        "id": "Mm5AnJisIwo9",
        "colab_type": "text"
      },
      "source": [
        "# Set\n",
        "A set is an unordered collection of items. Every element is unique (no duplicates) and must be immutable.\n"
      ]
    },
    {
      "cell_type": "code",
      "metadata": {
        "id": "V0lDt99MIuZQ",
        "colab_type": "code",
        "colab": {
          "base_uri": "https://localhost:8080/",
          "height": 35
        },
        "outputId": "5acb82f4-4f91-4d38-cb19-8b60f58628ac"
      },
      "source": [
        "\n",
        "# set of integers\n",
        "s = {1, 2, 3, 2, 3}\n",
        "print(s)\n",
        "\n"
      ],
      "execution_count": 47,
      "outputs": [
        {
          "output_type": "stream",
          "text": [
            "{1, 2, 3}\n"
          ],
          "name": "stdout"
        }
      ]
    },
    {
      "cell_type": "code",
      "metadata": {
        "id": "So-BTbKnIocP",
        "colab_type": "code",
        "colab": {
          "base_uri": "https://localhost:8080/",
          "height": 35
        },
        "outputId": "3853b23c-e3d3-4faf-9863-bec01be83ad9"
      },
      "source": [
        "\n",
        "# Set of different data types\n",
        "s = {1.0, \"Hello world\", (1, 2, 3)}\n",
        "print (s)\n",
        "\n"
      ],
      "execution_count": 46,
      "outputs": [
        {
          "output_type": "stream",
          "text": [
            "{1.0, 'Hello world', (1, 2, 3)}\n"
          ],
          "name": "stdout"
        }
      ]
    },
    {
      "cell_type": "code",
      "metadata": {
        "id": "uiWQZ7r8IcMi",
        "colab_type": "code",
        "colab": {
          "base_uri": "https://localhost:8080/",
          "height": 54
        },
        "outputId": "a938d918-41ee-4288-9565-9849a925893c"
      },
      "source": [
        "\n",
        "# Empty set\n",
        "s = set([1,2,3, 1])\n",
        "\n",
        "if \"a\" in {\"a\": 1}:\n",
        "    print (True)\n",
        "else:\n",
        "    print (False)\n",
        "    \n",
        "l = [3, 3, 2, 4, 2, 10]\n",
        "print (set(l))\n"
      ],
      "execution_count": 44,
      "outputs": [
        {
          "output_type": "stream",
          "text": [
            "True\n",
            "{10, 2, 3, 4}\n"
          ],
          "name": "stdout"
        }
      ]
    },
    {
      "cell_type": "code",
      "metadata": {
        "id": "K6_7lwzjIYug",
        "colab_type": "code",
        "colab": {
          "base_uri": "https://localhost:8080/",
          "height": 35
        },
        "outputId": "e84dc620-c290-4b5a-dc72-1fd772a44ea1"
      },
      "source": [
        "set([2, 3, 4, 10])\n"
      ],
      "execution_count": 41,
      "outputs": [
        {
          "output_type": "execute_result",
          "data": {
            "text/plain": [
              "{2, 3, 4, 10}"
            ]
          },
          "metadata": {
            "tags": []
          },
          "execution_count": 41
        }
      ]
    },
    {
      "cell_type": "code",
      "metadata": {
        "id": "YEnTSVyCIVK4",
        "colab_type": "code",
        "colab": {
          "base_uri": "https://localhost:8080/",
          "height": 35
        },
        "outputId": "a0d6e7da-35c7-4bfc-cb80-175ce1794758"
      },
      "source": [
        "# find unique elements\n",
        "l = [1,2,3,2,1,5,6,5,5,5]\n",
        "unique = set()\n",
        "for x in l:\n",
        "    if x not in unique:\n",
        "          unique.add(x)\n",
        "print (unique)\n",
        "\n"
      ],
      "execution_count": 40,
      "outputs": [
        {
          "output_type": "stream",
          "text": [
            "{1, 2, 3, 5, 6}\n"
          ],
          "name": "stdout"
        }
      ]
    },
    {
      "cell_type": "code",
      "metadata": {
        "id": "O_z3L1tgIRi1",
        "colab_type": "code",
        "colab": {
          "base_uri": "https://localhost:8080/",
          "height": 35
        },
        "outputId": "5a9be397-250b-406c-cd13-1b3447e23909"
      },
      "source": [
        "\n",
        "# Set of odd number up to 20\n",
        "a = {x for x in range(20) if x % 2 != 0}\n",
        "print (a)"
      ],
      "execution_count": 39,
      "outputs": [
        {
          "output_type": "stream",
          "text": [
            "{1, 3, 5, 7, 9, 11, 13, 15, 17, 19}\n"
          ],
          "name": "stdout"
        }
      ]
    },
    {
      "cell_type": "code",
      "metadata": {
        "id": "nma7oSqyIMxH",
        "colab_type": "code",
        "colab": {
          "base_uri": "https://localhost:8080/",
          "height": 72
        },
        "outputId": "75e2abd0-4027-470a-d3cf-c8e403cceab4"
      },
      "source": [
        "\n",
        "# Other methods\n",
        "my_set = {1, 3, 4, 5, 6}\n",
        "print(my_set)\n",
        "\n",
        "# discard an element\n",
        "my_set.discard(4)\n",
        "print(my_set)\n",
        "\n",
        "# remove an element\n",
        "my_set.remove(6)\n",
        "print(my_set)\n",
        "\n",
        "\n",
        "\n"
      ],
      "execution_count": 38,
      "outputs": [
        {
          "output_type": "stream",
          "text": [
            "{1, 3, 4, 5, 6}\n",
            "{1, 3, 5, 6}\n",
            "{1, 3, 5}\n"
          ],
          "name": "stdout"
        }
      ]
    },
    {
      "cell_type": "markdown",
      "metadata": {
        "id": "DVcp4i_XIH94",
        "colab_type": "text"
      },
      "source": [
        "# Set Operations\n"
      ]
    },
    {
      "cell_type": "code",
      "metadata": {
        "id": "CLCjEufRIEuC",
        "colab_type": "code",
        "colab": {
          "base_uri": "https://localhost:8080/",
          "height": 54
        },
        "outputId": "142f4e47-ae4f-4144-dbb7-6a3142e9bcfc"
      },
      "source": [
        "\n",
        "# UNION\n",
        "A = {1, 2, 3, 4, 5}\n",
        "B = {4, 5, 6, 7, 8}\n",
        "print (A|B)\n",
        "print (A.union(B))\n"
      ],
      "execution_count": 37,
      "outputs": [
        {
          "output_type": "stream",
          "text": [
            "{1, 2, 3, 4, 5, 6, 7, 8}\n",
            "{1, 2, 3, 4, 5, 6, 7, 8}\n"
          ],
          "name": "stdout"
        }
      ]
    },
    {
      "cell_type": "code",
      "metadata": {
        "id": "hqL52FbFIBbv",
        "colab_type": "code",
        "colab": {
          "base_uri": "https://localhost:8080/",
          "height": 54
        },
        "outputId": "7dc21d60-d5ca-412f-b4d5-6ef560d0951f"
      },
      "source": [
        "\n",
        "# INTERSECTION\n",
        "A = {1, 2, 3, 4, 5}\n",
        "B = {4, 5, 6, 7, 8}\n",
        "print (A & B)\n",
        "print (A.intersection(B))\n"
      ],
      "execution_count": 36,
      "outputs": [
        {
          "output_type": "stream",
          "text": [
            "{4, 5}\n",
            "{4, 5}\n"
          ],
          "name": "stdout"
        }
      ]
    },
    {
      "cell_type": "code",
      "metadata": {
        "id": "xnnqP7cyH_Eu",
        "colab_type": "code",
        "colab": {
          "base_uri": "https://localhost:8080/",
          "height": 54
        },
        "outputId": "b2769d29-8abf-41c6-9ec7-40c6e46892a1"
      },
      "source": [
        "\n",
        "# DIFFERENCE\n",
        "A = {1, 2, 3, 4, 5}\n",
        "B = {4, 5, 6, 7, 8}\n",
        "print (A - B)\n",
        "print (A.difference(B))"
      ],
      "execution_count": 35,
      "outputs": [
        {
          "output_type": "stream",
          "text": [
            "{1, 2, 3}\n",
            "{1, 2, 3}\n"
          ],
          "name": "stdout"
        }
      ]
    },
    {
      "cell_type": "code",
      "metadata": {
        "id": "2LqARLoWH_AZ",
        "colab_type": "code",
        "colab": {}
      },
      "source": [
        ""
      ],
      "execution_count": 0,
      "outputs": []
    },
    {
      "cell_type": "code",
      "metadata": {
        "id": "gIJUKoK4H8Qy",
        "colab_type": "code",
        "colab": {
          "base_uri": "https://localhost:8080/",
          "height": 54
        },
        "outputId": "acc4d1c0-5b2c-4126-baff-f6ab558d64ee"
      },
      "source": [
        "\n",
        "# SYMMETRIC DIFFERENCE\n",
        "A = {1, 2, 3, 4, 5}\n",
        "B = {4, 5, 6, 7, 8}\n",
        "print (A ^ B)\n",
        "print (A.symmetric_difference(B))\n"
      ],
      "execution_count": 34,
      "outputs": [
        {
          "output_type": "stream",
          "text": [
            "{1, 2, 3, 6, 7, 8}\n",
            "{1, 2, 3, 6, 7, 8}\n"
          ],
          "name": "stdout"
        }
      ]
    },
    {
      "cell_type": "markdown",
      "metadata": {
        "id": "Lr48HFfgHorW",
        "colab_type": "text"
      },
      "source": [
        "\n",
        "# Tuple\n",
        "A tuple is similar to a list. Tuples are immutable arrays of arbitrary elements. The elements of a tuple cannot be changed once it is assigned whereas in a list, elements can be changed.\n"
      ]
    },
    {
      "cell_type": "code",
      "metadata": {
        "id": "kzV_NjHYHJUl",
        "colab_type": "code",
        "colab": {
          "base_uri": "https://localhost:8080/",
          "height": 246
        },
        "outputId": "ec2f1e7b-6b7f-4e24-f65e-5bbc3ca18b3f"
      },
      "source": [
        "t = (1, 2.5, 3, \"Hello World\")\n",
        "print (t)\n",
        "t[1] = 8 # immutable\n",
        "print (t)\n"
      ],
      "execution_count": 33,
      "outputs": [
        {
          "output_type": "stream",
          "text": [
            "(1, 2.5, 3, 'Hello World')\n"
          ],
          "name": "stdout"
        },
        {
          "output_type": "error",
          "ename": "TypeError",
          "evalue": "ignored",
          "traceback": [
            "\u001b[0;31m---------------------------------------------------------------------------\u001b[0m",
            "\u001b[0;31mTypeError\u001b[0m                                 Traceback (most recent call last)",
            "\u001b[0;32m<ipython-input-33-0cb4853aa3df>\u001b[0m in \u001b[0;36m<module>\u001b[0;34m()\u001b[0m\n\u001b[1;32m      1\u001b[0m \u001b[0mt\u001b[0m \u001b[0;34m=\u001b[0m \u001b[0;34m(\u001b[0m\u001b[0;36m1\u001b[0m\u001b[0;34m,\u001b[0m \u001b[0;36m2.5\u001b[0m\u001b[0;34m,\u001b[0m \u001b[0;36m3\u001b[0m\u001b[0;34m,\u001b[0m \u001b[0;34m\"Hello World\"\u001b[0m\u001b[0;34m)\u001b[0m\u001b[0;34m\u001b[0m\u001b[0;34m\u001b[0m\u001b[0m\n\u001b[1;32m      2\u001b[0m \u001b[0mprint\u001b[0m \u001b[0;34m(\u001b[0m\u001b[0mt\u001b[0m\u001b[0;34m)\u001b[0m\u001b[0;34m\u001b[0m\u001b[0;34m\u001b[0m\u001b[0m\n\u001b[0;32m----> 3\u001b[0;31m \u001b[0mt\u001b[0m\u001b[0;34m[\u001b[0m\u001b[0;36m1\u001b[0m\u001b[0;34m]\u001b[0m \u001b[0;34m=\u001b[0m \u001b[0;36m8\u001b[0m \u001b[0;31m# immutable\u001b[0m\u001b[0;34m\u001b[0m\u001b[0;34m\u001b[0m\u001b[0m\n\u001b[0m\u001b[1;32m      4\u001b[0m \u001b[0mprint\u001b[0m \u001b[0;34m(\u001b[0m\u001b[0mt\u001b[0m\u001b[0;34m)\u001b[0m\u001b[0;34m\u001b[0m\u001b[0;34m\u001b[0m\u001b[0m\n",
            "\u001b[0;31mTypeError\u001b[0m: 'tuple' object does not support item assignment"
          ]
        }
      ]
    },
    {
      "cell_type": "code",
      "metadata": {
        "id": "qDTzbPIlHJPH",
        "colab_type": "code",
        "colab": {
          "base_uri": "https://localhost:8080/",
          "height": 35
        },
        "outputId": "ff5528eb-9b4a-4218-f967-6fe12b3a39ff"
      },
      "source": [
        "# lists to tuples and tuples to lists - zip\n",
        "# The zip function in python accepts a number of sequences (such as lists or arrays) and returns a list of tuples\n",
        "\n",
        "a = range(0,5)\n",
        "b = range(5,10)\n",
        "c = range(10,15)\n",
        "sequence_of_tuples = zip(a, b, c)\n",
        "print(sequence_of_tuples)\n",
        "\n"
      ],
      "execution_count": 31,
      "outputs": [
        {
          "output_type": "stream",
          "text": [
            "<zip object at 0x7f87c945b708>\n"
          ],
          "name": "stdout"
        }
      ]
    },
    {
      "cell_type": "code",
      "metadata": {
        "id": "UAGqaoDDHJMr",
        "colab_type": "code",
        "colab": {
          "base_uri": "https://localhost:8080/",
          "height": 72
        },
        "outputId": "ca08f366-a1d3-47ab-8712-c53ac5181912"
      },
      "source": [
        "\n",
        "# zip () in conjuction with * operator can be used to unzip a list\n",
        "a1,b1,c1 = zip(*sequence_of_tuples)\n",
        "print(a1)\n",
        "print(b1)\n",
        "print(c1)\n"
      ],
      "execution_count": 32,
      "outputs": [
        {
          "output_type": "stream",
          "text": [
            "(0, 1, 2, 3, 4)\n",
            "(5, 6, 7, 8, 9)\n",
            "(10, 11, 12, 13, 14)\n"
          ],
          "name": "stdout"
        }
      ]
    },
    {
      "cell_type": "code",
      "metadata": {
        "id": "jGUqY5-cHJGL",
        "colab_type": "code",
        "colab": {
          "base_uri": "https://localhost:8080/",
          "height": 35
        },
        "outputId": "f7d86b0d-28e7-40e3-f545-10d30a2919ee"
      },
      "source": [
        "# *tuple means \"treat this tuple as positional arguments to this function call.\"\n",
        "def foo(x,y):\n",
        "    print(x,y)\n",
        "\n",
        "t = (1,2)\n",
        "foo(*t)\n",
        "\n"
      ],
      "execution_count": 29,
      "outputs": [
        {
          "output_type": "stream",
          "text": [
            "1 2\n"
          ],
          "name": "stdout"
        }
      ]
    },
    {
      "cell_type": "code",
      "metadata": {
        "id": "69HVBiy1HJDB",
        "colab_type": "code",
        "colab": {
          "base_uri": "https://localhost:8080/",
          "height": 35
        },
        "outputId": "cccfa1da-f121-435e-ef38-1d913a364130"
      },
      "source": [
        "\n",
        "# **dict means \"treat the key-value pairs in the dictionary as additional named arguments to this function call.\"\n",
        "def foo(x,y):\n",
        "    print(x,y)\n",
        "\n",
        "d = {'x':1, 'y':2}\n",
        "foo(**d)\n",
        "\n"
      ],
      "execution_count": 28,
      "outputs": [
        {
          "output_type": "stream",
          "text": [
            "1 2\n"
          ],
          "name": "stdout"
        }
      ]
    },
    {
      "cell_type": "code",
      "metadata": {
        "id": "MV2sj3JZHI-V",
        "colab_type": "code",
        "colab": {
          "base_uri": "https://localhost:8080/",
          "height": 35
        },
        "outputId": "e3e2f0d6-7e6f-43bc-8179-c0683f2197b9"
      },
      "source": [
        "# Function signature\n",
        "def foo(*x):\n",
        "    print(x)\n",
        "\n",
        "foo(1,2)\n"
      ],
      "execution_count": 27,
      "outputs": [
        {
          "output_type": "stream",
          "text": [
            "(1, 2)\n"
          ],
          "name": "stdout"
        }
      ]
    },
    {
      "cell_type": "code",
      "metadata": {
        "id": "Txch-4TcHIzO",
        "colab_type": "code",
        "colab": {
          "base_uri": "https://localhost:8080/",
          "height": 35
        },
        "outputId": "1eb192f9-a607-4330-f9fd-cfb31a995af3"
      },
      "source": [
        "# Function signature\n",
        "def foo(**d):\n",
        "    print(d)\n",
        "foo(x=1, y=2)\n"
      ],
      "execution_count": 26,
      "outputs": [
        {
          "output_type": "stream",
          "text": [
            "{'x': 1, 'y': 2}\n"
          ],
          "name": "stdout"
        }
      ]
    },
    {
      "cell_type": "code",
      "metadata": {
        "id": "_OAonD8WHE12",
        "colab_type": "code",
        "colab": {
          "base_uri": "https://localhost:8080/",
          "height": 72
        },
        "outputId": "2edfec5a-74a8-4fa6-fdc2-c2e557708f68"
      },
      "source": [
        "\n",
        "# Accessing Elements in a Tuple\n",
        "my_tuple = ['p','e','r','m','i','t']\n",
        "\n",
        "print(my_tuple[0])\n",
        "print(my_tuple[5])\n",
        "print(my_tuple[-2]) # from right\n",
        "\n",
        "\n"
      ],
      "execution_count": 25,
      "outputs": [
        {
          "output_type": "stream",
          "text": [
            "p\n",
            "t\n",
            "i\n"
          ],
          "name": "stdout"
        }
      ]
    },
    {
      "cell_type": "code",
      "metadata": {
        "id": "wi4QHLbiHAuu",
        "colab_type": "code",
        "colab": {
          "base_uri": "https://localhost:8080/",
          "height": 90
        },
        "outputId": "8c6e6cb5-8111-4b99-b8f5-8404a05f0be1"
      },
      "source": [
        "\n",
        "# Slicing\n",
        "my_tuple = ('p','r','o','g','r','a','m','i','z')\n",
        "\n",
        "# elements 2nd to 4th\n",
        "# Output: ('r', 'o', 'g')\n",
        "print(my_tuple[1:4])\n",
        "\n",
        "# elements beginning to 2nd\n",
        "# Output: ('p', 'r')\n",
        "print(my_tuple[:-7])\n",
        "\n",
        "# elements 8th to end\n",
        "# Output: ('i', 'z')\n",
        "print(my_tuple[7:])\n",
        "\n",
        "# elements beginning to end\n",
        "# Output: ('p', 'r', 'o', 'g', 'r', 'a', 'm', 'i', 'z')\n",
        "print(my_tuple[:])\n",
        "\n"
      ],
      "execution_count": 24,
      "outputs": [
        {
          "output_type": "stream",
          "text": [
            "('r', 'o', 'g')\n",
            "('p', 'r')\n",
            "('i', 'z')\n",
            "('p', 'r', 'o', 'g', 'r', 'a', 'm', 'i', 'z')\n"
          ],
          "name": "stdout"
        }
      ]
    },
    {
      "cell_type": "code",
      "metadata": {
        "id": "PLzUGz8wG2KC",
        "colab_type": "code",
        "colab": {
          "base_uri": "https://localhost:8080/",
          "height": 246
        },
        "outputId": "5abe5782-a019-4be2-82ce-9e7f04fd0a82"
      },
      "source": [
        "# Deleting a Tuple\n",
        "t = (1, 2.5, 3, \"Hello World\")\n",
        "print (t)\n",
        "del (t)\n",
        "print (t)\n",
        "\n"
      ],
      "execution_count": 23,
      "outputs": [
        {
          "output_type": "stream",
          "text": [
            "(1, 2.5, 3, 'Hello World')\n"
          ],
          "name": "stdout"
        },
        {
          "output_type": "error",
          "ename": "NameError",
          "evalue": "ignored",
          "traceback": [
            "\u001b[0;31m---------------------------------------------------------------------------\u001b[0m",
            "\u001b[0;31mNameError\u001b[0m                                 Traceback (most recent call last)",
            "\u001b[0;32m<ipython-input-23-8e4906010a53>\u001b[0m in \u001b[0;36m<module>\u001b[0;34m()\u001b[0m\n\u001b[1;32m      3\u001b[0m \u001b[0mprint\u001b[0m \u001b[0;34m(\u001b[0m\u001b[0mt\u001b[0m\u001b[0;34m)\u001b[0m\u001b[0;34m\u001b[0m\u001b[0;34m\u001b[0m\u001b[0m\n\u001b[1;32m      4\u001b[0m \u001b[0;32mdel\u001b[0m \u001b[0;34m(\u001b[0m\u001b[0mt\u001b[0m\u001b[0;34m)\u001b[0m\u001b[0;34m\u001b[0m\u001b[0;34m\u001b[0m\u001b[0m\n\u001b[0;32m----> 5\u001b[0;31m \u001b[0mprint\u001b[0m \u001b[0;34m(\u001b[0m\u001b[0mt\u001b[0m\u001b[0;34m)\u001b[0m\u001b[0;34m\u001b[0m\u001b[0;34m\u001b[0m\u001b[0m\n\u001b[0m\u001b[1;32m      6\u001b[0m \u001b[0;34m\u001b[0m\u001b[0m\n",
            "\u001b[0;31mNameError\u001b[0m: name 't' is not defined"
          ]
        }
      ]
    },
    {
      "cell_type": "code",
      "metadata": {
        "id": "DbPV91vFGufV",
        "colab_type": "code",
        "colab": {
          "base_uri": "https://localhost:8080/",
          "height": 35
        },
        "outputId": "e00b9498-06c7-4e8d-c2db-6402563df7a6"
      },
      "source": [
        "\n",
        "# Iterating through a Tuple\n",
        "#t = (1, 2.5, 3, \"Hello World\")\n",
        "#for value in t:\n",
        "#    print (value)\n",
        "\n",
        "l = [1,2,3]\n",
        "l[2] = 4\n",
        "print (l)\n",
        "\n",
        "\n"
      ],
      "execution_count": 22,
      "outputs": [
        {
          "output_type": "stream",
          "text": [
            "[1, 2, 4]\n"
          ],
          "name": "stdout"
        }
      ]
    },
    {
      "cell_type": "code",
      "metadata": {
        "id": "r6doI7eWGpmU",
        "colab_type": "code",
        "colab": {
          "base_uri": "https://localhost:8080/",
          "height": 54
        },
        "outputId": "ae7edbb4-4346-40e4-87d3-00e573ccf72e"
      },
      "source": [
        "# Immutable object\n",
        "x = 3 # int data type\n",
        "y = x # y is pointing to x\n",
        "\n",
        "y = 5 # change y, x should not changed - immutable\n",
        "\n",
        "print (x)\n",
        "print (y)\n",
        "\n"
      ],
      "execution_count": 20,
      "outputs": [
        {
          "output_type": "stream",
          "text": [
            "3\n",
            "5\n"
          ],
          "name": "stdout"
        }
      ]
    },
    {
      "cell_type": "code",
      "metadata": {
        "id": "r-LVEOq1Gl5V",
        "colab_type": "code",
        "colab": {
          "base_uri": "https://localhost:8080/",
          "height": 54
        },
        "outputId": "e345b510-cd6e-43ad-b50d-fdd26c1b7bf3"
      },
      "source": [
        "\n",
        "# Mutable object\n",
        "list1 = [1,2,3,4,5] # A list\n",
        "list2 = list1       # list2 is pointing to the same memory location as list 1\n",
        "list2.append(8)     # if list2 is changed, list1 will also change - mutable\n",
        "\n",
        "print (list1)\n",
        "print (list2)\n"
      ],
      "execution_count": 19,
      "outputs": [
        {
          "output_type": "stream",
          "text": [
            "[1, 2, 3, 4, 5, 8]\n",
            "[1, 2, 3, 4, 5, 8]\n"
          ],
          "name": "stdout"
        }
      ]
    },
    {
      "cell_type": "code",
      "metadata": {
        "id": "8yD6lJf3GgfN",
        "colab_type": "code",
        "colab": {
          "base_uri": "https://localhost:8080/",
          "height": 35
        },
        "outputId": "c69fec20-93ad-46a1-b00e-9f431bd6a5c7"
      },
      "source": [
        "\n",
        "# inefficient code\n",
        "container = [\"A\",\"B\",\"C\",\"D\",\"E\"]\n",
        "string_build = \"\"\n",
        "for data in container:\n",
        "    string_build += str(data)\n",
        "\n",
        "string_build\n"
      ],
      "execution_count": 17,
      "outputs": [
        {
          "output_type": "execute_result",
          "data": {
            "text/plain": [
              "'ABCDE'"
            ]
          },
          "metadata": {
            "tags": []
          },
          "execution_count": 17
        }
      ]
    },
    {
      "cell_type": "code",
      "metadata": {
        "id": "vA3JFr1rGWZ-",
        "colab_type": "code",
        "colab": {
          "base_uri": "https://localhost:8080/",
          "height": 35
        },
        "outputId": "e9713083-ca87-4fac-ead1-e23c00d5abb0"
      },
      "source": [
        "\n",
        "# More efficient\n",
        "\"\".join(container)\n"
      ],
      "execution_count": 18,
      "outputs": [
        {
          "output_type": "execute_result",
          "data": {
            "text/plain": [
              "'ABCDE'"
            ]
          },
          "metadata": {
            "tags": []
          },
          "execution_count": 18
        }
      ]
    },
    {
      "cell_type": "code",
      "metadata": {
        "id": "yPTRUIJzGQuj",
        "colab_type": "code",
        "colab": {
          "base_uri": "https://localhost:8080/",
          "height": 35
        },
        "outputId": "e4c8540f-258d-4770-ac51-070a3267e361"
      },
      "source": [
        "\n",
        "# Copying a list\n",
        "colours1 = [\"red\", \"green\"]\n",
        "colours2 = colours1\n",
        "colours2[1] = \"blue\"\n",
        "colours1\n",
        "\n"
      ],
      "execution_count": 15,
      "outputs": [
        {
          "output_type": "execute_result",
          "data": {
            "text/plain": [
              "['red', 'blue']"
            ]
          },
          "metadata": {
            "tags": []
          },
          "execution_count": 15
        }
      ]
    },
    {
      "cell_type": "code",
      "metadata": {
        "id": "yEbUwMFtGMh2",
        "colab_type": "code",
        "colab": {
          "base_uri": "https://localhost:8080/",
          "height": 54
        },
        "outputId": "d7594ea5-8c6a-4882-978c-9c9bf2ed8ff7"
      },
      "source": [
        "# Copy with the Slice Operator\n",
        "colours1 = [\"red\", \"green\"]\n",
        "colours2 = colours1[:]\n",
        "colours2[1] = \"blue\"\n",
        "print (colours1)\n",
        "print (colours2)\n"
      ],
      "execution_count": 14,
      "outputs": [
        {
          "output_type": "stream",
          "text": [
            "['red', 'green']\n",
            "['red', 'blue']\n"
          ],
          "name": "stdout"
        }
      ]
    },
    {
      "cell_type": "code",
      "metadata": {
        "id": "5UizklnuFypJ",
        "colab_type": "code",
        "colab": {
          "base_uri": "https://localhost:8080/",
          "height": 54
        },
        "outputId": "f0d42d68-e034-47ff-cf9e-3202d03660ee"
      },
      "source": [
        "\n",
        "# Copy with the extend Operator\n",
        "colours1 = [\"red\", \"green\"]\n",
        "colours2= []\n",
        "colours2.extend(colours1)\n",
        "colours2[1] = \"blue\"\n",
        "print (colours1)\n",
        "print (colours2)\n"
      ],
      "execution_count": 10,
      "outputs": [
        {
          "output_type": "stream",
          "text": [
            "['red', 'green']\n",
            "['red', 'blue']\n"
          ],
          "name": "stdout"
        }
      ]
    },
    {
      "cell_type": "code",
      "metadata": {
        "id": "OSKK-5GvFT-P",
        "colab_type": "code",
        "colab": {
          "base_uri": "https://localhost:8080/",
          "height": 54
        },
        "outputId": "91c597ed-c485-4c04-cc66-b0a2367dc925"
      },
      "source": [
        "\n",
        "# Copy with the list Operator\n",
        "colours1 = [\"red\", \"green\"]\n",
        "colours2 = colours1\n",
        "colours2[1] = \"blue\"\n",
        "print (colours1)\n",
        "print (colours2)\n",
        "\n"
      ],
      "execution_count": 13,
      "outputs": [
        {
          "output_type": "stream",
          "text": [
            "['red', 'blue']\n",
            "['red', 'blue']\n"
          ],
          "name": "stdout"
        }
      ]
    },
    {
      "cell_type": "code",
      "metadata": {
        "id": "GGVOfxkhFOjt",
        "colab_type": "code",
        "colab": {
          "base_uri": "https://localhost:8080/",
          "height": 54
        },
        "outputId": "84fa9f03-5c18-4670-9fed-8f898b483626"
      },
      "source": [
        "# Copy with the copy Operator\n",
        "import copy\n",
        "colours1 = [\"red\", \"green\"]\n",
        "colours2= copy.copy(colours1)\n",
        "colours2[1] = \"blue\"\n",
        "print (colours1)\n",
        "print (colours2)\n",
        "\n"
      ],
      "execution_count": 5,
      "outputs": [
        {
          "output_type": "stream",
          "text": [
            "['red', 'green']\n",
            "['red', 'blue']\n"
          ],
          "name": "stdout"
        }
      ]
    },
    {
      "cell_type": "code",
      "metadata": {
        "id": "CUNe16NdFG3e",
        "colab_type": "code",
        "colab": {
          "base_uri": "https://localhost:8080/",
          "height": 54
        },
        "outputId": "ac18dc1e-2e7f-47f3-c3b7-63f113b6f6f0"
      },
      "source": [
        "\n",
        "# Deep copy\n",
        "import copy\n",
        "\n",
        "list_a = [[3, 4], [5, 6, [7, 8]]]\n",
        "list_b = copy.deepcopy(list_a)\n",
        "\n",
        "list_a[0][1] = 9 # change the first list, second list shoud not change\n",
        "\n",
        "#print (list_a)\n",
        "#print (list_b)\n",
        "\n",
        "l = [1, 2, 3, 4, [\"a\", \"b\", \"c\"]]\n",
        "m = copy.copy(l)\n",
        "\n",
        "m.append(5)\n",
        "\n",
        "l[4].append(\"d\")\n",
        "\n",
        "print (m)\n",
        "\n",
        "[1, 2, 3, 4, ['a', 'b', 'c', 'd'], 5]"
      ],
      "execution_count": 4,
      "outputs": [
        {
          "output_type": "stream",
          "text": [
            "[1, 2, 3, 4, ['a', 'b', 'c', 'd'], 5]\n"
          ],
          "name": "stdout"
        },
        {
          "output_type": "execute_result",
          "data": {
            "text/plain": [
              "[1, 2, 3, 4, ['a', 'b', 'c', 'd'], 5]"
            ]
          },
          "metadata": {
            "tags": []
          },
          "execution_count": 4
        }
      ]
    },
    {
      "cell_type": "code",
      "metadata": {
        "id": "UGbCTjd0E7w5",
        "colab_type": "code",
        "colab": {
          "base_uri": "https://localhost:8080/",
          "height": 35
        },
        "outputId": "bee3e708-c6e7-44a2-e078-7dc5449d9d92"
      },
      "source": [
        "\n",
        "# Convert Celsius to Fahrenheit\n",
        "# Formula: ((float(9)/5)*x + 32)\n",
        "\n",
        "Celsius = [39.2, 36.5, 37.3, 37.8]\n",
        "Fahrenheit = [ ((float(9)/5)*x + 32) for x in Celsius ]\n",
        "print (Fahrenheit)\n"
      ],
      "execution_count": 3,
      "outputs": [
        {
          "output_type": "stream",
          "text": [
            "[102.56, 97.7, 99.14, 100.03999999999999]\n"
          ],
          "name": "stdout"
        }
      ]
    },
    {
      "cell_type": "code",
      "metadata": {
        "id": "qJ1yRzVYE4Gw",
        "colab_type": "code",
        "colab": {
          "base_uri": "https://localhost:8080/",
          "height": 54
        },
        "outputId": "9a42a09b-b3b5-426e-9c28-4b4c475f81e4"
      },
      "source": [
        "\n",
        "# Find out whether a list is a palindrome\n",
        "\n",
        "list = ['a', 'b', 'c', 'b', 'a']\n",
        "print (list == list[::-1])\n",
        "\n",
        "# Remove duplicate from the below list\n",
        "\n",
        "t = [1, 2, 3, 1, 2, 5, 6, 7, 8]\n",
        "s = []\n",
        "for i in t:\n",
        "       if i not in s:\n",
        "          s.append(i)\n",
        "print (s)\n",
        "\n"
      ],
      "execution_count": 2,
      "outputs": [
        {
          "output_type": "stream",
          "text": [
            "True\n",
            "[1, 2, 3, 5, 6, 7, 8]\n"
          ],
          "name": "stdout"
        }
      ]
    },
    {
      "cell_type": "code",
      "metadata": {
        "id": "sS07xiP3EumW",
        "colab_type": "code",
        "colab": {
          "base_uri": "https://localhost:8080/",
          "height": 35
        },
        "outputId": "7565fecc-81cb-4197-f40a-b6438dd460bf"
      },
      "source": [
        "\n",
        "# Given this nest dictionary grab the word \"hello\".\n",
        "\n",
        "d = {' k1':[1,2,3, {' tricky' :[' oh' ,' man' ,' inception' , {' target':[1,2,3,' hello']}]}]}\n",
        "d[' k1'][3][' tricky'][3][' target'][3]\n"
      ],
      "execution_count": 1,
      "outputs": [
        {
          "output_type": "execute_result",
          "data": {
            "text/plain": [
              "' hello'"
            ]
          },
          "metadata": {
            "tags": []
          },
          "execution_count": 1
        }
      ]
    },
    {
      "cell_type": "code",
      "metadata": {
        "id": "5IOdxuTkE9LM",
        "colab_type": "code",
        "colab": {
          "base_uri": "https://localhost:8080/",
          "height": 35
        },
        "outputId": "e76729c3-d0cf-424c-d9c4-d8676ad9ce64"
      },
      "source": [
        "a = range(10)\n",
        "a"
      ],
      "execution_count": 71,
      "outputs": [
        {
          "output_type": "execute_result",
          "data": {
            "text/plain": [
              "range(0, 10)"
            ]
          },
          "metadata": {
            "tags": []
          },
          "execution_count": 71
        }
      ]
    },
    {
      "cell_type": "code",
      "metadata": {
        "id": "QTvx9_jhLqlg",
        "colab_type": "code",
        "colab": {}
      },
      "source": [
        ""
      ],
      "execution_count": 0,
      "outputs": []
    }
  ]
}