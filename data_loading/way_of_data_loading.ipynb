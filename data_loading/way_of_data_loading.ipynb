{
  "nbformat": 4,
  "nbformat_minor": 0,
  "metadata": {
    "colab": {
      "name": "way of data loading.ipynb",
      "provenance": []
    },
    "kernelspec": {
      "name": "python3",
      "display_name": "Python 3"
    }
  },
  "cells": [
    {
      "cell_type": "markdown",
      "metadata": {
        "id": "PbQtLhpyxfAz",
        "colab_type": "text"
      },
      "source": [
        "# Data loading methods"
      ]
    },
    {
      "cell_type": "markdown",
      "metadata": {
        "id": "HnpczZpAzP3k",
        "colab_type": "text"
      },
      "source": [
        "# load documents like csv and xlsx"
      ]
    },
    {
      "cell_type": "code",
      "metadata": {
        "id": "5lWF0IjixLGI",
        "colab_type": "code",
        "colab": {}
      },
      "source": [
        "# load data from local system\n",
        "import pandas as pd\n",
        "data = \"path\"\n",
        "pd.read_csv(data)\n",
        "pd.read_excel(data)"
      ],
      "execution_count": 0,
      "outputs": []
    },
    {
      "cell_type": "markdown",
      "metadata": {
        "id": "vkoNozNZ01El",
        "colab_type": "text"
      },
      "source": [
        "# load image as single and multiple"
      ]
    },
    {
      "cell_type": "code",
      "metadata": {
        "id": "c32hk3SyyWLN",
        "colab_type": "code",
        "colab": {}
      },
      "source": [
        "    # single file\n",
        "    file_path = \"\"\n",
        "    # use read function to read the above file\n",
        "    file_path.load()"
      ],
      "execution_count": 0,
      "outputs": []
    },
    {
      "cell_type": "code",
      "metadata": {
        "id": "x6sYZukPykqB",
        "colab_type": "code",
        "colab": {}
      },
      "source": [
        "# folder\n",
        "import glob\n",
        "import os\n",
        "folder_path = \"\"\n",
        "data_path = os.path.join(folder_path,'*g')\n",
        "files = glob.glob(data_path)"
      ],
      "execution_count": 0,
      "outputs": []
    },
    {
      "cell_type": "code",
      "metadata": {
        "id": "ZXjc2qOSx4hc",
        "colab_type": "code",
        "colab": {}
      },
      "source": [
        "# data generator\n",
        "from tensorflow.keras.preprocessing.image import ImageDataGenerator\n",
        "train_path = ''\n",
        "test_path = ''\n",
        "\n",
        "train_datagen = ImageDataGenerator(rescale=1./255,shear_range= 0.2,zoom_range=0.2,horizontal_flip=True)\n",
        "test_datagen = ImageDataGenerator(rescale=1./255)\n",
        "\n",
        "training_set = train_datagen.flow_from_directory(train_path,target_size=(150,150),batch_size=128,class_mode='binary')\n",
        "test_set = test_datagen.flow_from_directory(test_path,target_size=(150,150),batch_size=128,class_mode='binary')\n"
      ],
      "execution_count": 0,
      "outputs": []
    }
  ]
}